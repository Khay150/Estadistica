{
 "cells": [
  {
   "cell_type": "markdown",
   "metadata": {},
   "source": [
    "# Guia 1"
   ]
  },
  {
   "cell_type": "markdown",
   "metadata": {},
   "source": [
    "## Ejercicio 10"
   ]
  },
  {
   "cell_type": "markdown",
   "metadata": {},
   "source": [
    "### Cuantiles y Probabilidades en la Distribución Normal\n",
    "\n",
    "Sea $X \\sim \\mathcal{N}(\\mu, \\sigma^2)$ una variable aleatoria con distribución normal.\n",
    "\n",
    "Denotamos $Z \\sim \\mathcal{N}(0,1)$, $\\Phi$ la función de distribución acumulada (CDF) de $Z$, y $z_p = \\Phi^{-1}(p)$ el cuantil $p$ de la normal estándar.\n",
    "\n",
    "**Hecho útil por simetría:**\n",
    "\n",
    "$$\n",
    "z_{0.25} = -z_{0.75}, \\quad z_{0.5} = 0, \\quad z_{0.75} \\approx 0.67448975.\n",
    "$$\n"
   ]
  },
  {
   "cell_type": "markdown",
   "metadata": {},
   "source": [
    "#### a) Mediana\n",
    "\n",
    "$$\n",
    "\\mathrm{Med}(X) = \\mu + \\sigma z_{0.5} = \\mu.\n",
    "$$\n"
   ]
  },
  {
   "cell_type": "markdown",
   "metadata": {},
   "source": [
    "#### b) Cuartil superior (QS)\n",
    "\n",
    "$$\n",
    "QS = F_X^{-1}(0.75) = \\mu + \\sigma z_{0.75}.\n",
    "$$\n"
   ]
  },
  {
   "cell_type": "markdown",
   "metadata": {},
   "source": [
    "#### c) Cuartil inferior (QI)\n",
    "\n",
    "$$\n",
    "QI = F_X^{-1}(0.25) = \\mu + \\sigma z_{0.25} = \\mu - \\sigma z_{0.75}.\n",
    "$$\n"
   ]
  },
  {
   "cell_type": "markdown",
   "metadata": {},
   "source": [
    "#### d) Rango intercuartil (RIQ)\n",
    "\n",
    "$$\n",
    "RIQ = QS - QI = \\sigma(z_{0.75} - z_{0.25}) = 2\\sigma z_{0.75}.\n",
    "$$\n",
    "\n",
    "Numéricamente:\n",
    "\n",
    "$$\n",
    "RIQ \\approx 1.34898\\, \\sigma.\n",
    "$$\n"
   ]
  },
  {
   "cell_type": "markdown",
   "metadata": {},
   "source": [
    "#### e) Máximo valor del “bigote” superior\n",
    "\n",
    "$$\n",
    "QS + 1.5\\,RIQ = \\mu + \\sigma \\big(z_{0.75} + 1.5(z_{0.75} - z_{0.25})\\big) = \\mu + 4\\sigma z_{0.75}.\n",
    "$$\n",
    "\n",
    "Numéricamente:\n",
    "\n",
    "$$\n",
    "\\mu + 2.697959\\, \\sigma.\n",
    "$$\n"
   ]
  },
  {
   "cell_type": "markdown",
   "metadata": {},
   "source": [
    "#### f) Mínimo valor del “bigote” inferior\n",
    "\n",
    "$$\n",
    "QI - 1.5\\,RIQ = \\mu + \\sigma \\big(z_{0.25} - 1.5(z_{0.75} - z_{0.25})\\big) = \\mu - 4\\sigma z_{0.75}.\n",
    "$$\n",
    "\n",
    "Numéricamente:\n",
    "\n",
    "$$\n",
    "\\mu - 2.697959\\, \\sigma.\n",
    "$$\n"
   ]
  },
  {
   "cell_type": "markdown",
   "metadata": {},
   "source": [
    "#### g) Probabilidad entre QI y QS\n",
    "\n",
    "$$\n",
    "\\mathbb{P}(QI \\leq X \\leq QS) = 0.75 - 0.25 = 0.5.\n",
    "$$\n"
   ]
  },
  {
   "cell_type": "markdown",
   "metadata": {},
   "source": [
    "#### h) Probabilidad entre QS y $QS+1.5\\,RIQ$\n",
    "\n",
    "Estandarizando, el intervalo corresponde a $[z_{0.75},\\,4z_{0.75}]$.\n",
    "\n",
    "$$\n",
    "\\mathbb{P}(QS \\leq X \\leq QS+1.5\\,RIQ) = \\Phi(4z_{0.75}) - \\Phi(z_{0.75}).\n",
    "$$\n",
    "\n",
    "Numéricamente:\n",
    "\n",
    "$$\n",
    "\\approx 0.9965117 - 0.75 = 0.2465 \\quad (24.65\\%).\n",
    "$$\n"
   ]
  },
  {
   "cell_type": "markdown",
   "metadata": {},
   "source": [
    "#### i) Probabilidad de ser outlier en un boxplot\n",
    "\n",
    "El criterio del boxplot marca outliers fuera del intervalo:\n",
    "\n",
    "$$\n",
    "[QI - 1.5\\,RIQ,\\; QS + 1.5\\,RIQ].\n",
    "$$\n",
    "\n",
    "Estandarizando, esto equivale a:\n",
    "\n",
    "$$\n",
    "(-\\infty, -4z_{0.75}) \\cup (4z_{0.75}, \\infty).\n",
    "$$\n",
    "\n",
    "Entonces:\n",
    "\n",
    "$$\n",
    "\\mathbb{P}(\\text{outlier}) = 2\\big(1-\\Phi(4z_{0.75})\\big).\n",
    "$$\n",
    "\n",
    "Numéricamente:\n",
    "\n",
    "$$\n",
    "\\approx 2(1-0.9965117) = 0.00698 \\quad (0.698\\%).\n",
    "$$\n",
    "\n",
    "Es decir, aproximadamente 7 de cada 1000 observaciones se marcan como atípicas.\n"
   ]
  },
  {
   "cell_type": "markdown",
   "metadata": {},
   "source": [
    "## Ejercicio 11"
   ]
  },
  {
   "cell_type": "markdown",
   "metadata": {},
   "source": [
    "### Desvío estándar, MAD y RIQ para $X\\sim F=\\mathcal{N}(\\mu,\\sigma^2)$\n",
    "\n",
    "Sea $X\\sim\\mathcal{N}(\\mu,\\sigma^2)$. Denotamos $\\Phi$ la CDF de la normal estándar y $z_p=\\Phi^{-1}(p)$. En particular $z_{0.75}\\approx 0.67449$.\n"
   ]
  },
  {
   "cell_type": "markdown",
   "metadata": {},
   "source": [
    "#### a) Desvío estándar poblacional\n",
    "\n",
    "El desvío estándar poblacional es la raíz de la varianza poblacional:\n",
    "\n",
    "$$\n",
    "\\mathrm{sd}_F(X) = \\sqrt{\\mathrm{Var}_F(X)} = \\sqrt{\\mathbb{E}_F[(X - \\mathbb{E}_F X)^2]} = \\sigma.\n",
    "$$\n",
    "\n",
    "Respuesta: $\\boxed{\\mathrm{sd}_F(X) = \\sigma}$\n"
   ]
  },
  {
   "cell_type": "markdown",
   "metadata": {},
   "source": []
  },
  {
   "cell_type": "markdown",
   "metadata": {},
   "source": [
    "#### b) MAD poblacional: $\\mathrm{MAD}_F(X)$\n",
    "\n",
    "La MAD poblacional se define como\n",
    "\n",
    "$$\n",
    "\\mathrm{MAD}_F(X) = \\mathrm{Med}_F\\big(|X - \\mathrm{Med}_F(X)|\\big),\n",
    "$$\n",
    "\n",
    "donde $\\mathrm{Med}_F(X)$ es la mediana poblacional de $X$.\n",
    "\n",
    "##### i) Mediana poblacional de $X$\n",
    "\n",
    "Por simetría de la normal:\n",
    "\n",
    "$$\n",
    "\\mathrm{Med}_F(X) = F^{-1}(1/2) = \\mu.\n",
    "$$\n",
    "\n",
    "##### ii) Distribución de $W = |X - \\mathrm{Med}_F(X)| = |X - \\mu|$\n",
    "\n",
    "Para $t \\ge 0$:\n",
    "\n",
    "$$\n",
    "F_W(t) = \\mathbb{P}(|X - \\mu| \\le t) = \\mathbb{P}(\\mu - t \\le X \\le \\mu + t) = \\Phi\\Big(\\frac{t}{\\sigma}\\Big) - \\Phi\\Big(-\\frac{t}{\\sigma}\\Big)\n",
    "$$\n",
    "\n",
    "Usando $\\Phi(-u) = 1 - \\Phi(u)$:\n",
    "\n",
    "$$\n",
    "\\boxed{F_W(t) = \\big(2\\Phi(t/\\sigma) - 1\\big)\\mathbf{1}_{[0,\\infty)}(t)}\n",
    "$$\n",
    "\n",
    "##### iii) Cálculo de la MAD\n",
    "\n",
    "Buscamos $t_0$ tal que $F_W(t_0) = 1/2$:\n",
    "\n",
    "$$\n",
    "2\\Phi(t_0/\\sigma) - 1 = \\frac12 \\quad \\Longrightarrow \\quad \\Phi(t_0/\\sigma) = 0.75\n",
    "$$\n",
    "\n",
    "Por tanto:\n",
    "\n",
    "$$\n",
    "t_0 = \\sigma \\Phi^{-1}(0.75) = \\sigma z_{0.75}\n",
    "$$\n",
    "\n",
    "Respuesta:\n",
    "\n",
    "$$\n",
    "\\boxed{\\mathrm{MAD}_F(X) = \\sigma \\, z_{0.75} \\approx 0.67449\\,\\sigma}\n",
    "$$\n"
   ]
  },
  {
   "cell_type": "markdown",
   "metadata": {},
   "source": [
    "#### c) Rango intercuartil (RIQ) de $X$\n",
    "\n",
    "Los cuartiles de $X$ son:\n",
    "\n",
    "$$\n",
    "QI = \\mu + \\sigma z_{0.25} = \\mu - \\sigma z_{0.75}, \\quad QS = \\mu + \\sigma z_{0.75}\n",
    "$$\n",
    "\n",
    "El rango intercuartil es:\n",
    "\n",
    "$$\n",
    "\\mathrm{RIQ}_F(X) = QS - QI = 2 \\sigma z_{0.75} \\approx 1.34898 \\, \\sigma\n",
    "$$\n",
    "\n",
    "Respuesta:\n",
    "\n",
    "$$\n",
    "\\boxed{\\mathrm{RIQ}_F(X) = 2 \\, z_{0.75} \\, \\sigma \\approx 1.34898 \\, \\sigma}\n",
    "$$\n"
   ]
  },
  {
   "cell_type": "markdown",
   "metadata": {},
   "source": [
    "#### d) Escalado de MAD y RIQ para comparar con $\\sigma$\n",
    "\n",
    "Para obtener estimadores consistentes de $\\sigma$ a partir de MAD y RIQ cuando la muestra proviene de una normal:\n",
    "\n",
    "- MAD: $\\mathrm{MAD}_F(X) \\approx 0.67449 \\, \\sigma$.  \n",
    "  Escalando por $1/0.67449 \\approx 1.4826$ (aproximadamente 1.48 o redondeado a 0.675 para muestras) obtenemos un estimador consistente de $\\sigma$.\n",
    "\n",
    "- RIQ: $\\mathrm{RIQ}_F(X) \\approx 1.34898 \\, \\sigma$.  \n",
    "  Escalando por $1/1.34898 \\approx 0.7418$ (aproximadamente 1/1.35) obtenemos un estimador consistente de $\\sigma$.\n",
    "\n",
    "**Conclusión:** Las constantes 0.675 (MAD) y 1.35 (RIQ) permiten que estas medidas robustas se comparen directamente con el desvío estándar cuando la distribución es normal.\n"
   ]
  },
  {
   "cell_type": "markdown",
   "metadata": {},
   "source": [
    "## Ejercicio 12"
   ]
  },
  {
   "cell_type": "markdown",
   "metadata": {},
   "source": [
    "### QQ-plot: Distribución Normal\n",
    "\n",
    "Sea $X_1, \\dots, X_n$ v.a.i.i.d. $X_i \\sim N(0,1)$ y una realización $\\{x_1, \\dots, x_n\\}$. Denotamos los datos ordenados de forma creciente como:\n",
    "\n",
    "$$\n",
    "x_{(1)} \\le x_{(2)} \\le \\dots \\le x_{(n)}.\n",
    "$$\n",
    "\n",
    "Para $\\alpha \\in (0,1)$, el $\\alpha$-cuantil muestral se define como:\n",
    "\n",
    "$$\n",
    "x([\\alpha (n+1)]),\n",
    "$$\n",
    "\n",
    "donde $[\\cdot]$ indica la parte entera.\n"
   ]
  },
  {
   "cell_type": "markdown",
   "metadata": {},
   "source": [
    "#### a) \n",
    "\n",
    "##### i) Cuantiles muestrales individuales\n",
    "\n",
    "- Para $x_{(1)}$, tenemos $[\\alpha(n+1)] = 1 \\implies \\alpha = \\frac{1}{n+1}$.\n",
    "- Para $x_{(2)}$, $[\\alpha(n+1)] = 2 \\implies \\alpha = \\frac{2}{n+1}$.\n",
    "- En general, para $x_{(i)}$:\n",
    "\n",
    "$$\n",
    "\\alpha = \\frac{i}{n+1}.\n",
    "$$\n",
    "\n",
    "##### ii) Cuantil poblacional correspondiente\n",
    "\n",
    "Sea $\\Phi$ la CDF de $N(0,1)$. El $\\alpha$-cuantil poblacional es:\n",
    "\n",
    "$$\n",
    "q_\\alpha = \\Phi^{-1}(\\alpha).\n",
    "$$\n",
    "\n",
    "Para $\\alpha = \\frac{i}{n+1}$, el cuantil poblacional correspondiente es:\n",
    "\n",
    "$$\n",
    "q_{i/(n+1)} = \\Phi^{-1}\\left(\\frac{i}{n+1}\\right).\n",
    "$$\n",
    "\n",
    "##### iii) Interpretación del QQ-plot\n",
    "\n",
    "El QQ-plot se construye con los puntos:\n",
    "\n",
    "$$\n",
    "\\left(\\Phi^{-1}\\left(\\frac{i}{n+1}\\right), x_{(i)}\\right), \\quad i=1,\\dots,n.\n",
    "$$\n",
    "\n",
    "Si $X_1, \\dots, X_n \\sim F$, la Ley de los Grandes Números asegura que la función de distribución empírica:\n",
    "\n",
    "$$\n",
    "F_n(t) = \\frac{1}{n} \\sum_{i=1}^n \\mathbf{1}_{(-\\infty,t]}(X_i)\n",
    "$$\n"
   ]
  },
  {
   "cell_type": "markdown",
   "metadata": {},
   "source": [
    "#### b) Caso $Y_1, \\dots, Y_n \\sim N(\\mu, \\sigma^2)$, con eje horizontal los cuantiles de $N(0,1)$\n",
    "\n",
    "Sea $y_1, \\dots, y_n$ una realización de estas variables y definimos:\n",
    "\n",
    "$$\n",
    "z_i = \\frac{y_i - \\mu}{\\sigma}, \\quad i=1,\\dots,n.\n",
    "$$\n",
    "\n",
    "Entonces:\n",
    "\n",
    "$$\n",
    "z_{(i)} = \\frac{y_{(i)} - \\mu}{\\sigma}.\n",
    "$$\n"
   ]
  },
  {
   "cell_type": "markdown",
   "metadata": {},
   "source": [
    "##### i) Relación entre $y_{(i)}$ y $z_{(i)}$\n",
    "\n",
    "$$\n",
    "y_{(i)} = \\mu + \\sigma z_{(i)}, \\quad i = 1, \\dots, n.\n",
    "$$"
   ]
  },
  {
   "cell_type": "markdown",
   "metadata": {},
   "source": [
    "##### ii) Puntos del QQ-plot en términos de $z_{(i)}$\n",
    "\n",
    "Si graficamos los cuantiles teóricos de $N(0,1)$ vs $z_{(i)}$, los puntos serán:\n",
    "\n",
    "$$\n",
    "\\left(\\Phi^{-1}\\left(\\frac{i}{n+1}\\right), z_{(i)}\\right), \\quad i = 1, \\dots, n.\n",
    "$$\n",
    "\n",
    "Por el ítem anterior, estos puntos se ubicarán aproximadamente **sobre la recta identidad**, porque $z_i \\sim N(0,1)$.\n"
   ]
  },
  {
   "cell_type": "markdown",
   "metadata": {},
   "source": [
    "##### iii) Puntos del QQ-plot para las observaciones $y_{(i)}$\n",
    "\n",
    "Usando $y_{(i)} = \\mu + \\sigma z_{(i)}$, los puntos del QQ-plot se convierten en:\n",
    "\n",
    "$$\n",
    "\\left(\\Phi^{-1}\\left(\\frac{i}{n+1}\\right), y_{(i)}\\right) = \\left(\\Phi^{-1}\\left(\\frac{i}{n+1}\\right), \\mu + \\sigma z_{(i)}\\right), \\quad i=1,\\dots,n.\n",
    "$$\n",
    "\n",
    "Esto implica que los puntos estarán aproximadamente sobre una **recta de pendiente $\\sigma$ y ordenada $\\mu$**, es decir:\n",
    "\n",
    "$$\n",
    "y = \\mu + \\sigma x\n",
    "$$\n",
    "\n",
    "donde $x$ son los cuantiles teóricos de $N(0,1)$. Por lo tanto, el QQ-plot permite detectar **desplazamientos (μ) y escalas (σ)** respecto a la normal estándar."
   ]
  },
  {
   "cell_type": "markdown",
   "metadata": {},
   "source": []
  }
 ],
 "metadata": {
  "kernelspec": {
   "display_name": "Python 3",
   "language": "python",
   "name": "python3"
  },
  "language_info": {
   "codemirror_mode": {
    "name": "ipython",
    "version": 3
   },
   "file_extension": ".py",
   "mimetype": "text/x-python",
   "name": "python",
   "nbconvert_exporter": "python",
   "pygments_lexer": "ipython3",
   "version": "3.10.1"
  }
 },
 "nbformat": 4,
 "nbformat_minor": 2
}
